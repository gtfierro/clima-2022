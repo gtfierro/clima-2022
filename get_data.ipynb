{
 "cells": [
  {
   "cell_type": "code",
   "execution_count": 50,
   "id": "e52418d1-c408-4af8-b4c0-e2f114bf1e37",
   "metadata": {},
   "outputs": [],
   "source": [
    "import brickschema\n",
    "import requests\n",
    "import json\n",
    "import duckdb\n",
    "import pandas as pd"
   ]
  },
  {
   "cell_type": "code",
   "execution_count": 51,
   "id": "d12cd26b-7427-45aa-8015-6a9bb4bbc51e",
   "metadata": {},
   "outputs": [],
   "source": [
    "con = duckdb.connect(database='data.duckdb', read_only=False)"
   ]
  },
  {
   "cell_type": "code",
   "execution_count": 52,
   "id": "03aff493-7499-4d74-bd7e-48c58aa5c368",
   "metadata": {},
   "outputs": [
    {
     "data": {
      "text/plain": [
       "<_duckdb_extension.DuckDBPyConnection at 0x7f4a0e9814b0>"
      ]
     },
     "execution_count": 52,
     "metadata": {},
     "output_type": "execute_result"
    }
   ],
   "source": [
    "con.execute(\"CREATE TABLE IF NOT EXISTS data (time TIMESTAMP, value REAL, id TEXT);\")\n",
    "# con.execute(\"CREATE INDEX IF NOT EXISTS data_id_idx on data(id);\")\n",
    "con.execute(\"CREATE UNIQUE INDEX IF NOT EXISTS data_value_unique_idx on data(time, id);\")"
   ]
  },
  {
   "cell_type": "code",
   "execution_count": 53,
   "id": "d46ba21f-ba2d-471e-bb60-afdb36bc4613",
   "metadata": {},
   "outputs": [
    {
     "data": {
      "text/plain": [
       "<Graph identifier=N558754c3be10403b9dc3b05ff5ca7357 (<class 'brickschema.graph.Graph'>)>"
      ]
     },
     "execution_count": 53,
     "metadata": {},
     "output_type": "execute_result"
    }
   ],
   "source": [
    "g = brickschema.Graph()\n",
    "g.load_file(\"ttl/Brick.ttl\",)\n",
    "g.load_file(\"ttl/building-compiled.ttl\")"
   ]
  },
  {
   "cell_type": "code",
   "execution_count": 59,
   "id": "403f5131-3746-403a-bbec-616e0d8c428d",
   "metadata": {},
   "outputs": [
    {
     "name": "stdout",
     "output_type": "stream",
     "text": [
      "Wrote 642 values for id TUC.245.77.R4\n",
      "Wrote 594 values for id TUC.245.77.R6\n",
      "Wrote 596 values for id TUC.245.77.R2\n",
      "Wrote 594 values for id TUC.245.77.R8\n",
      "Wrote 594 values for id TUC.245.77.R9\n",
      "Wrote 1451 values for id TUC.245.77.R0\n",
      "Wrote 611 values for id TUC.245.77.R104\n",
      "Wrote 593 values for id TUC.245.77.R106\n",
      "Wrote 656 values for id TUC.245.77.R102\n",
      "Wrote 593 values for id TUC.245.77.R108\n",
      "Wrote 593 values for id TUC.245.77.R109\n",
      "Wrote 1757 values for id TUC.245.77.R100\n",
      "Wrote 633 values for id TUC.245.77.R84\n",
      "Wrote 594 values for id TUC.245.77.R86\n",
      "Wrote 599 values for id TUC.245.77.R82\n",
      "Wrote 593 values for id TUC.245.77.R88\n",
      "Wrote 593 values for id TUC.245.77.R89\n",
      "Wrote 1255 values for id TUC.245.77.R80\n",
      "Wrote 630 values for id TUC.245.77.R64\n",
      "Wrote 594 values for id TUC.245.77.R66\n",
      "Wrote 625 values for id TUC.245.77.R62\n",
      "Wrote 594 values for id TUC.245.77.R68\n",
      "Wrote 594 values for id TUC.245.77.R69\n",
      "Wrote 1600 values for id TUC.245.77.R60\n",
      "Wrote 594 values for id TUC.245.77.R44\n",
      "Wrote 594 values for id TUC.245.77.R46\n",
      "Wrote 595 values for id TUC.245.77.R42\n",
      "Wrote 594 values for id TUC.245.77.R48\n",
      "Wrote 594 values for id TUC.245.77.R49\n",
      "Wrote 2016 values for id TUC.245.77.R40\n",
      "Wrote 624 values for id TUC.245.77.R24\n",
      "Wrote 594 values for id TUC.245.77.R26\n",
      "Wrote 423 values for id TUC.245.77.R22\n",
      "Wrote 594 values for id TUC.245.77.R28\n",
      "Wrote 594 values for id TUC.245.77.R29\n",
      "Wrote 1862 values for id TUC.245.77.R20\n",
      "Wrote 611 values for id TUC.245.77.R184\n",
      "Wrote 594 values for id TUC.245.77.R186\n",
      "Wrote 593 values for id TUC.245.77.R182\n",
      "Wrote 594 values for id TUC.245.77.R188\n",
      "Wrote 594 values for id TUC.245.77.R189\n",
      "Wrote 1849 values for id TUC.245.77.R180\n",
      "Wrote 593 values for id TUC.245.77.R284\n",
      "Wrote 594 values for id TUC.245.77.R286\n",
      "Wrote 569 values for id TUC.245.77.R282\n",
      "Wrote 593 values for id TUC.245.77.R288\n",
      "Wrote 594 values for id TUC.245.77.R289\n",
      "Wrote 1851 values for id TUC.245.77.R280\n",
      "Wrote 593 values for id TUC.245.77.R264\n",
      "Wrote 593 values for id TUC.245.77.R266\n",
      "Wrote 597 values for id TUC.245.77.R262\n",
      "Wrote 593 values for id TUC.245.77.R268\n",
      "Wrote 593 values for id TUC.245.77.R269\n",
      "Wrote 1166 values for id TUC.245.77.R260\n",
      "Wrote 593 values for id TUC.245.77.R244\n",
      "Wrote 593 values for id TUC.245.77.R246\n",
      "Wrote 607 values for id TUC.245.77.R242\n",
      "Wrote 593 values for id TUC.245.77.R248\n",
      "Wrote 593 values for id TUC.245.77.R249\n",
      "Wrote 1622 values for id TUC.245.77.R240\n",
      "Wrote 593 values for id TUC.245.77.R224\n",
      "Wrote 593 values for id TUC.245.77.R226\n",
      "Wrote 594 values for id TUC.245.77.R222\n",
      "Wrote 593 values for id TUC.245.77.R228\n",
      "Wrote 593 values for id TUC.245.77.R229\n",
      "Wrote 1633 values for id TUC.245.77.R220\n",
      "Wrote 598 values for id TUC.245.77.R204\n",
      "Wrote 594 values for id TUC.245.77.R206\n",
      "Wrote 552 values for id TUC.245.77.R202\n",
      "Wrote 593 values for id TUC.245.77.R208\n",
      "Wrote 593 values for id TUC.245.77.R209\n",
      "Wrote 1345 values for id TUC.245.77.R200\n",
      "Wrote 626 values for id TUC.245.77.R364\n",
      "Wrote 594 values for id TUC.245.77.R366\n",
      "Wrote 593 values for id TUC.245.77.R362\n",
      "Wrote 594 values for id TUC.245.77.R368\n",
      "Wrote 593 values for id TUC.245.77.R369\n",
      "Wrote 2450 values for id TUC.245.77.R360\n",
      "Wrote 596 values for id TUC.245.77.R464\n",
      "Wrote 594 values for id TUC.245.77.R466\n",
      "Wrote 598 values for id TUC.245.77.R462\n",
      "Wrote 594 values for id TUC.245.77.R468\n",
      "Wrote 593 values for id TUC.245.77.R469\n",
      "Wrote 1651 values for id TUC.245.77.R460\n",
      "Wrote 614 values for id TUC.245.77.R444\n",
      "Wrote 594 values for id TUC.245.77.R446\n",
      "Wrote 780 values for id TUC.245.77.R442\n",
      "Wrote 593 values for id TUC.245.77.R448\n",
      "Wrote 593 values for id TUC.245.77.R449\n",
      "Wrote 1566 values for id TUC.245.77.R440\n",
      "Wrote 593 values for id TUC.245.77.R424\n",
      "Wrote 593 values for id TUC.245.77.R426\n",
      "Wrote 597 values for id TUC.245.77.R422\n",
      "Wrote 593 values for id TUC.245.77.R428\n",
      "Wrote 593 values for id TUC.245.77.R429\n",
      "Wrote 1220 values for id TUC.245.77.R420\n",
      "Wrote 633 values for id TUC.245.77.R384\n",
      "Wrote 602 values for id TUC.245.77.R386\n",
      "Wrote 811 values for id TUC.245.77.R382\n",
      "Wrote 593 values for id TUC.245.77.R388\n",
      "Wrote 593 values for id TUC.245.77.R389\n",
      "Wrote 1900 values for id TUC.245.77.R380\n"
     ]
    }
   ],
   "source": [
    "for point, data_id in g.query(\"\"\"SELECT ?point ?data_id WHERE {\n",
    "   ?sensor rdf:type/rdfs:subClassOf* brick:Point .\n",
    "   ?sensor ref:hasExternalReference ?ref .\n",
    "   ?ref a ref:TimeseriesReference .\n",
    "   ?ref ref:hasTimeseriesId ?data_id \n",
    "}\"\"\"):\n",
    "    body = {\n",
    "        'pset': json.dumps({\"points\": [{'global': str(data_id)}]}),\n",
    "        'num': 24 * 7\n",
    "    }\n",
    "    r = requests.post('https://alice.openmetrics.eu/historical/list/by/hour', data=body)\n",
    "    ts = r.json().get('points', [])\n",
    "    if len(ts) == 0 or len(ts[0]['measureList']) == 0:\n",
    "        continue\n",
    "    df = pd.DataFrame.from_records(ts[0]['timeseries'])\n",
    "    df['id'] = data_id\n",
    "    con.executemany('INSERT INTO data(time, value, id) VALUES (?, ?, ?)', df[['timestamp', 'value', 'id']].values)\n",
    "    print(f\"Wrote {len(df)} values for id {data_id}\")"
   ]
  },
  {
   "cell_type": "code",
   "execution_count": null,
   "id": "5a28c657-7c23-416f-b46c-c556120d7aa2",
   "metadata": {},
   "outputs": [],
   "source": [
    "con.close()"
   ]
  },
  {
   "cell_type": "code",
   "execution_count": null,
   "id": "f9b6346e-b73a-49ff-8d87-561a1a5ab1cb",
   "metadata": {},
   "outputs": [],
   "source": []
  },
  {
   "cell_type": "code",
   "execution_count": null,
   "id": "6e157e55-1c2d-478d-abe1-6921425059cb",
   "metadata": {},
   "outputs": [],
   "source": []
  }
 ],
 "metadata": {
  "kernelspec": {
   "display_name": "Python 3 (ipykernel)",
   "language": "python",
   "name": "python3"
  },
  "language_info": {
   "codemirror_mode": {
    "name": "ipython",
    "version": 3
   },
   "file_extension": ".py",
   "mimetype": "text/x-python",
   "name": "python",
   "nbconvert_exporter": "python",
   "pygments_lexer": "ipython3",
   "version": "3.9.12"
  }
 },
 "nbformat": 4,
 "nbformat_minor": 5
}
