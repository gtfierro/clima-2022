{
 "cells": [
  {
   "cell_type": "code",
   "execution_count": 23,
   "id": "97b73167-2e0c-4d60-9528-21736544229a",
   "metadata": {},
   "outputs": [],
   "source": [
    "import brickschema\n",
    "from rdflib import BNode\n",
    "from brickschema import namespaces as ns"
   ]
  },
  {
   "cell_type": "code",
   "execution_count": 24,
   "id": "6a34275c-378b-437b-8b81-2370e7026882",
   "metadata": {},
   "outputs": [
    {
     "data": {
      "text/plain": [
       "<Graph identifier=building (<class 'rdflib.graph.Graph'>)>"
      ]
     },
     "execution_count": 24,
     "metadata": {},
     "output_type": "execute_result"
    }
   ],
   "source": [
    "g = brickschema.GraphCollection()\n",
    "g.load_graph(\"ttl/Brick.ttl\")\n",
    "g.load_graph(\"ttl/building.ttl\", graph_name=\"building\")"
   ]
  },
  {
   "cell_type": "code",
   "execution_count": 25,
   "id": "2ac02b42-cd8b-4fd4-9f19-3c46f4cc61ce",
   "metadata": {},
   "outputs": [],
   "source": [
    "# fixing the graph\n",
    "\n",
    "# update timeseries identifiers\n",
    "for (point, ref, tid) in g.query(\"\"\"SELECT ?point ?ref ?tid WHERE {\n",
    "   ?point brick:timeseries ?ref .\n",
    "   ?ref brick:hasTimeseriesId ?tid\n",
    "}\"\"\"):\n",
    "    bldg = g.graph(\"building\")\n",
    "    bldg.remove((point, ns.BRICK.timeseries, ref))\n",
    "    bldg.remove((ref, ns.BRICK.hasTimeseriesId, tid))\n",
    "    p = BNode()\n",
    "    bldg.add((point, ns.REF.hasExternalReference, p))\n",
    "    bldg.add((p, ns.A, ns.REF.TimeseriesReference))\n",
    "    bldg.add((p, ns.REF.hasTimeseriesId, tid))\n",
    "# g.serialize(\"ttl/x.ttl\", format='turtle')\n",
    "for ref in g.query(\"\"\"SELECT ?ref WHERE {\n",
    "   ?ref a brick:TimeseriesReference .\n",
    "   FILTER NOT EXISTS { ?point ref:hasExternalReference ?ref }\n",
    "}\"\"\"):\n",
    "    triples = g.cbd(ref)\n",
    "    for t in triples:\n",
    "        g.remove(t)\n",
    "\n",
    "for (point, loc) in g.query(\"\"\"SELECT ?point ?loc WHERE {\n",
    "?point rdf:type/rdfs:subClassOf* brick:Point .\n",
    "?point brick:hasLocation ?loc .\n",
    "?loc rdf:type/rdfs:subClassOf* brick:Location\n",
    "}\"\"\"):\n",
    "    bldg = g.graph(\"building\")\n",
    "    bldg.remove((point, ns.BRICK.hasLocation, loc))\n",
    "    bldg.add((point, ns.BRICK.isPointOf, loc))"
   ]
  },
  {
   "cell_type": "code",
   "execution_count": 26,
   "id": "cccc3a8e-6abc-4ba6-8dd8-1eeb93568675",
   "metadata": {},
   "outputs": [
    {
     "ename": "AssertionError",
     "evalue": "Validation Report\nConforms: False\nResults (2):\nConstraint Violation in ClassConstraintComponent (http://www.w3.org/ns/shacl#ClassConstraintComponent):\n\tSeverity: sh:Violation\n\tSource Shape: [ sh:class brick:Location ; sh:message Literal(\"A Location's parts should be always Locations.\") ; sh:path brick:hasPart ]\n\tFocus Node: <http://openmetrics.eu/openmetrics#Site_241>\n\tValue Node: <http://openmetrics.eu/openmetrics#Building_140>\n\tResult Path: brick:hasPart\n\tMessage: A Location's parts should be always Locations.\nConstraint Violation in ClassConstraintComponent (http://www.w3.org/ns/shacl#ClassConstraintComponent):\n\tSeverity: sh:Violation\n\tSource Shape: [ sh:class brick:Location ; sh:message Literal(\"A Location's parts should be always Locations.\") ; sh:path brick:hasPart ]\n\tFocus Node: <http://openmetrics.eu/openmetrics#Site_241>\n\tValue Node: <http://openmetrics.eu/openmetrics#Building_140>\n\tResult Path: brick:hasPart\n\tMessage: A Location's parts should be always Locations.\n",
     "output_type": "error",
     "traceback": [
      "\u001b[0;31m---------------------------------------------------------------------------\u001b[0m",
      "\u001b[0;31mAssertionError\u001b[0m                            Traceback (most recent call last)",
      "Input \u001b[0;32mIn [26]\u001b[0m, in \u001b[0;36m<cell line: 2>\u001b[0;34m()\u001b[0m\n\u001b[1;32m      1\u001b[0m valid, _, report \u001b[38;5;241m=\u001b[39m g\u001b[38;5;241m.\u001b[39mvalidate()\n\u001b[0;32m----> 2\u001b[0m \u001b[38;5;28;01massert\u001b[39;00m valid, report\n",
      "\u001b[0;31mAssertionError\u001b[0m: Validation Report\nConforms: False\nResults (2):\nConstraint Violation in ClassConstraintComponent (http://www.w3.org/ns/shacl#ClassConstraintComponent):\n\tSeverity: sh:Violation\n\tSource Shape: [ sh:class brick:Location ; sh:message Literal(\"A Location's parts should be always Locations.\") ; sh:path brick:hasPart ]\n\tFocus Node: <http://openmetrics.eu/openmetrics#Site_241>\n\tValue Node: <http://openmetrics.eu/openmetrics#Building_140>\n\tResult Path: brick:hasPart\n\tMessage: A Location's parts should be always Locations.\nConstraint Violation in ClassConstraintComponent (http://www.w3.org/ns/shacl#ClassConstraintComponent):\n\tSeverity: sh:Violation\n\tSource Shape: [ sh:class brick:Location ; sh:message Literal(\"A Location's parts should be always Locations.\") ; sh:path brick:hasPart ]\n\tFocus Node: <http://openmetrics.eu/openmetrics#Site_241>\n\tValue Node: <http://openmetrics.eu/openmetrics#Building_140>\n\tResult Path: brick:hasPart\n\tMessage: A Location's parts should be always Locations.\n"
     ]
    }
   ],
   "source": [
    "valid, _, report = g.validate()\n",
    "assert valid, report"
   ]
  },
  {
   "cell_type": "code",
   "execution_count": 27,
   "id": "97a1bcf7-12b1-46a0-a19d-bb8eef9fcc47",
   "metadata": {},
   "outputs": [
    {
     "data": {
      "text/plain": [
       "<Graph identifier=N19bd8b9f31d44869aa39d05afc5c71cf (<class 'brickschema.graph.GraphCollection'>)>"
      ]
     },
     "execution_count": 27,
     "metadata": {},
     "output_type": "execute_result"
    }
   ],
   "source": [
    "# run SHACL processor\n",
    "g.expand(\"shacl\")"
   ]
  },
  {
   "cell_type": "code",
   "execution_count": 28,
   "id": "85205e69-f2b6-466e-8ced-c8c66dbb59a0",
   "metadata": {},
   "outputs": [
    {
     "data": {
      "text/plain": [
       "<Graph identifier=building (<class 'rdflib.graph.Graph'>)>"
      ]
     },
     "execution_count": 28,
     "metadata": {},
     "output_type": "execute_result"
    }
   ],
   "source": [
    "g.graph(\"building\").serialize(\"ttl/building-compiled.ttl\")"
   ]
  },
  {
   "cell_type": "code",
   "execution_count": null,
   "id": "8a720a34-c98c-447e-b91f-0441771dfbe7",
   "metadata": {},
   "outputs": [],
   "source": []
  }
 ],
 "metadata": {
  "kernelspec": {
   "display_name": "Python 3 (ipykernel)",
   "language": "python",
   "name": "python3"
  },
  "language_info": {
   "codemirror_mode": {
    "name": "ipython",
    "version": 3
   },
   "file_extension": ".py",
   "mimetype": "text/x-python",
   "name": "python",
   "nbconvert_exporter": "python",
   "pygments_lexer": "ipython3",
   "version": "3.9.12"
  }
 },
 "nbformat": 4,
 "nbformat_minor": 5
}
